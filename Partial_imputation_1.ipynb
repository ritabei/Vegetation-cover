{
 "cells": [
  {
   "cell_type": "markdown",
   "metadata": {
    "ExecuteTime": {
     "end_time": "2022-04-25T11:37:23.872141Z",
     "start_time": "2022-04-25T11:37:23.866136Z"
    }
   },
   "source": [
    "### Partial imputation experiments on ESA landcover data"
   ]
  },
  {
   "cell_type": "markdown",
   "metadata": {},
   "source": [
    "#### Imputation based on latitude and elevation. Random downscaling"
   ]
  },
  {
   "cell_type": "code",
   "execution_count": 197,
   "metadata": {
    "ExecuteTime": {
     "end_time": "2023-04-03T02:17:03.170980Z",
     "start_time": "2023-04-03T02:17:03.165983Z"
    }
   },
   "outputs": [],
   "source": [
    "import numpy as np\n",
    "import pandas as pd\n",
    "import random\n",
    "from sklearn.metrics import mean_absolute_error as mae"
   ]
  },
  {
   "cell_type": "code",
   "execution_count": 198,
   "metadata": {
    "ExecuteTime": {
     "end_time": "2023-04-03T02:17:03.440617Z",
     "start_time": "2023-04-03T02:17:03.431616Z"
    }
   },
   "outputs": [],
   "source": [
    "# Partial imputation algorithm as a function\n",
    "def partial_imputation(observation, cluster_average):\n",
    "    if not isinstance(observation, np.ndarray):\n",
    "        observation = np.array(observation)\n",
    "    if not isinstance(cluster_average, np.ndarray):\n",
    "        cluster_average = np.array(cluster_average)\n",
    "\n",
    "    difference = np.maximum(cluster_average - observation, 0)\n",
    "    total_difference = np.sum(difference)\n",
    "    if total_difference != 0 and not np.isnan(cluster_average).any():\n",
    "        proportion = difference / total_difference\n",
    "        imp_observation = observation + proportion * (1 - np.sum(observation))\n",
    "    else:\n",
    "        imp_observation = observation\n",
    "\n",
    "    return imp_observation"
   ]
  },
  {
   "cell_type": "code",
   "execution_count": 199,
   "metadata": {
    "ExecuteTime": {
     "end_time": "2023-04-03T02:17:03.800819Z",
     "start_time": "2023-04-03T02:17:03.696348Z"
    }
   },
   "outputs": [],
   "source": [
    "# Reading the data\n",
    "dataset0 = pd.read_csv('ESA_landcover_data.csv')\n",
    "esa = dataset0.copy()\n",
    "esa = esa.astype(np.float32)\n",
    "\n",
    "# Selecting the columns of vegetation types\n",
    "columns_to_select = ['e1', 'e2', 'e3', 'e4', 'e5', 'e6', 'e7', 'e9', 'e11', 'e13']\n",
    "esa = esa.loc[:, columns_to_select]\n"
   ]
  },
  {
   "cell_type": "code",
   "execution_count": 200,
   "metadata": {
    "ExecuteTime": {
     "end_time": "2023-04-03T02:17:03.966965Z",
     "start_time": "2023-04-03T02:17:03.943396Z"
    }
   },
   "outputs": [
    {
     "data": {
      "text/html": [
       "<div>\n",
       "<style scoped>\n",
       "    .dataframe tbody tr th:only-of-type {\n",
       "        vertical-align: middle;\n",
       "    }\n",
       "\n",
       "    .dataframe tbody tr th {\n",
       "        vertical-align: top;\n",
       "    }\n",
       "\n",
       "    .dataframe thead th {\n",
       "        text-align: right;\n",
       "    }\n",
       "</style>\n",
       "<table border=\"1\" class=\"dataframe\">\n",
       "  <thead>\n",
       "    <tr style=\"text-align: right;\">\n",
       "      <th></th>\n",
       "      <th>e1</th>\n",
       "      <th>e2</th>\n",
       "      <th>e3</th>\n",
       "      <th>e4</th>\n",
       "      <th>e5</th>\n",
       "      <th>e6</th>\n",
       "      <th>e7</th>\n",
       "      <th>e9</th>\n",
       "      <th>e11</th>\n",
       "      <th>e13</th>\n",
       "    </tr>\n",
       "  </thead>\n",
       "  <tbody>\n",
       "    <tr>\n",
       "      <th>0</th>\n",
       "      <td>0.15900</td>\n",
       "      <td>0.03183</td>\n",
       "      <td>0.00189</td>\n",
       "      <td>0.00000</td>\n",
       "      <td>0.03622</td>\n",
       "      <td>0.04039</td>\n",
       "      <td>0.02871</td>\n",
       "      <td>0.09058</td>\n",
       "      <td>0.16102</td>\n",
       "      <td>0.0</td>\n",
       "    </tr>\n",
       "    <tr>\n",
       "      <th>1</th>\n",
       "      <td>0.02589</td>\n",
       "      <td>0.02934</td>\n",
       "      <td>0.00516</td>\n",
       "      <td>0.00000</td>\n",
       "      <td>0.02031</td>\n",
       "      <td>0.03032</td>\n",
       "      <td>0.01938</td>\n",
       "      <td>0.06882</td>\n",
       "      <td>0.43829</td>\n",
       "      <td>0.0</td>\n",
       "    </tr>\n",
       "    <tr>\n",
       "      <th>2</th>\n",
       "      <td>0.04600</td>\n",
       "      <td>0.01767</td>\n",
       "      <td>0.00394</td>\n",
       "      <td>0.00000</td>\n",
       "      <td>0.01335</td>\n",
       "      <td>0.01932</td>\n",
       "      <td>0.01009</td>\n",
       "      <td>0.03914</td>\n",
       "      <td>0.32218</td>\n",
       "      <td>0.0</td>\n",
       "    </tr>\n",
       "    <tr>\n",
       "      <th>3</th>\n",
       "      <td>0.04120</td>\n",
       "      <td>0.02608</td>\n",
       "      <td>0.00322</td>\n",
       "      <td>0.00000</td>\n",
       "      <td>0.02367</td>\n",
       "      <td>0.02795</td>\n",
       "      <td>0.02021</td>\n",
       "      <td>0.06767</td>\n",
       "      <td>0.27331</td>\n",
       "      <td>0.0</td>\n",
       "    </tr>\n",
       "    <tr>\n",
       "      <th>4</th>\n",
       "      <td>0.62481</td>\n",
       "      <td>0.01201</td>\n",
       "      <td>0.00000</td>\n",
       "      <td>0.00000</td>\n",
       "      <td>0.05531</td>\n",
       "      <td>0.04435</td>\n",
       "      <td>0.01203</td>\n",
       "      <td>0.03684</td>\n",
       "      <td>0.00000</td>\n",
       "      <td>0.0</td>\n",
       "    </tr>\n",
       "    <tr>\n",
       "      <th>...</th>\n",
       "      <td>...</td>\n",
       "      <td>...</td>\n",
       "      <td>...</td>\n",
       "      <td>...</td>\n",
       "      <td>...</td>\n",
       "      <td>...</td>\n",
       "      <td>...</td>\n",
       "      <td>...</td>\n",
       "      <td>...</td>\n",
       "      <td>...</td>\n",
       "    </tr>\n",
       "    <tr>\n",
       "      <th>52292</th>\n",
       "      <td>0.35223</td>\n",
       "      <td>0.00000</td>\n",
       "      <td>0.00000</td>\n",
       "      <td>0.00000</td>\n",
       "      <td>0.12222</td>\n",
       "      <td>0.13089</td>\n",
       "      <td>0.10284</td>\n",
       "      <td>0.14722</td>\n",
       "      <td>0.10067</td>\n",
       "      <td>0.0</td>\n",
       "    </tr>\n",
       "    <tr>\n",
       "      <th>52293</th>\n",
       "      <td>0.12890</td>\n",
       "      <td>0.00000</td>\n",
       "      <td>0.00000</td>\n",
       "      <td>0.00000</td>\n",
       "      <td>0.10955</td>\n",
       "      <td>0.00000</td>\n",
       "      <td>0.00000</td>\n",
       "      <td>0.00000</td>\n",
       "      <td>0.00000</td>\n",
       "      <td>0.0</td>\n",
       "    </tr>\n",
       "    <tr>\n",
       "      <th>52294</th>\n",
       "      <td>0.05928</td>\n",
       "      <td>0.00000</td>\n",
       "      <td>0.00000</td>\n",
       "      <td>0.00000</td>\n",
       "      <td>0.07672</td>\n",
       "      <td>0.07795</td>\n",
       "      <td>0.06861</td>\n",
       "      <td>0.08156</td>\n",
       "      <td>0.07085</td>\n",
       "      <td>0.0</td>\n",
       "    </tr>\n",
       "    <tr>\n",
       "      <th>52295</th>\n",
       "      <td>0.49759</td>\n",
       "      <td>0.01806</td>\n",
       "      <td>0.00393</td>\n",
       "      <td>0.00393</td>\n",
       "      <td>0.10594</td>\n",
       "      <td>0.11033</td>\n",
       "      <td>0.07869</td>\n",
       "      <td>0.10671</td>\n",
       "      <td>0.07476</td>\n",
       "      <td>0.0</td>\n",
       "    </tr>\n",
       "    <tr>\n",
       "      <th>52296</th>\n",
       "      <td>0.36647</td>\n",
       "      <td>0.00669</td>\n",
       "      <td>0.00108</td>\n",
       "      <td>0.00107</td>\n",
       "      <td>0.11810</td>\n",
       "      <td>0.07394</td>\n",
       "      <td>0.05853</td>\n",
       "      <td>0.06882</td>\n",
       "      <td>0.05849</td>\n",
       "      <td>0.0</td>\n",
       "    </tr>\n",
       "  </tbody>\n",
       "</table>\n",
       "<p>52297 rows × 10 columns</p>\n",
       "</div>"
      ],
      "text/plain": [
       "            e1       e2       e3       e4       e5       e6       e7       e9  \\\n",
       "0      0.15900  0.03183  0.00189  0.00000  0.03622  0.04039  0.02871  0.09058   \n",
       "1      0.02589  0.02934  0.00516  0.00000  0.02031  0.03032  0.01938  0.06882   \n",
       "2      0.04600  0.01767  0.00394  0.00000  0.01335  0.01932  0.01009  0.03914   \n",
       "3      0.04120  0.02608  0.00322  0.00000  0.02367  0.02795  0.02021  0.06767   \n",
       "4      0.62481  0.01201  0.00000  0.00000  0.05531  0.04435  0.01203  0.03684   \n",
       "...        ...      ...      ...      ...      ...      ...      ...      ...   \n",
       "52292  0.35223  0.00000  0.00000  0.00000  0.12222  0.13089  0.10284  0.14722   \n",
       "52293  0.12890  0.00000  0.00000  0.00000  0.10955  0.00000  0.00000  0.00000   \n",
       "52294  0.05928  0.00000  0.00000  0.00000  0.07672  0.07795  0.06861  0.08156   \n",
       "52295  0.49759  0.01806  0.00393  0.00393  0.10594  0.11033  0.07869  0.10671   \n",
       "52296  0.36647  0.00669  0.00108  0.00107  0.11810  0.07394  0.05853  0.06882   \n",
       "\n",
       "           e11  e13  \n",
       "0      0.16102  0.0  \n",
       "1      0.43829  0.0  \n",
       "2      0.32218  0.0  \n",
       "3      0.27331  0.0  \n",
       "4      0.00000  0.0  \n",
       "...        ...  ...  \n",
       "52292  0.10067  0.0  \n",
       "52293  0.00000  0.0  \n",
       "52294  0.07085  0.0  \n",
       "52295  0.07476  0.0  \n",
       "52296  0.05849  0.0  \n",
       "\n",
       "[52297 rows x 10 columns]"
      ]
     },
     "execution_count": 200,
     "metadata": {},
     "output_type": "execute_result"
    }
   ],
   "source": [
    "# ESA landcover fractions\n",
    "esa"
   ]
  },
  {
   "cell_type": "code",
   "execution_count": 201,
   "metadata": {
    "ExecuteTime": {
     "end_time": "2023-04-03T02:17:04.203945Z",
     "start_time": "2023-04-03T02:17:04.190329Z"
    }
   },
   "outputs": [],
   "source": [
    "# Selecting values of elevation and latitude\n",
    "latitude = np.copy(dataset0['lat'])\n",
    "elevation = np.copy(dataset0['elevation'])"
   ]
  },
  {
   "cell_type": "code",
   "execution_count": 202,
   "metadata": {
    "ExecuteTime": {
     "end_time": "2023-04-03T02:17:04.446259Z",
     "start_time": "2023-04-03T02:17:04.426655Z"
    }
   },
   "outputs": [],
   "source": [
    "# Defining the cutoffs for the elevation bins\n",
    "bins = [-np.inf, 500, 1000, 2000, 3000, np.inf]\n",
    "# Defining the values to assign to each bin\n",
    "values = [1, 2, 3, 4, 5]\n",
    "elevation_bins = pd.cut(elevation, bins=bins, labels=False)\n",
    "elevation_values = np.select([elevation_bins == i for i in range(len(values))], values)\n",
    "# Assigning the new values to the elevation variable\n",
    "elevation = elevation_values"
   ]
  },
  {
   "cell_type": "code",
   "execution_count": 203,
   "metadata": {
    "ExecuteTime": {
     "end_time": "2023-04-03T02:17:04.703848Z",
     "start_time": "2023-04-03T02:17:04.647931Z"
    }
   },
   "outputs": [],
   "source": [
    "# Finding which ESA observations sum up to 1\n",
    "index_unity = np.round(esa, 2).sum(axis = 1) == 1\n",
    "\n",
    "# Making data frame only of complete observations\n",
    "esa_complete = esa[index_unity]"
   ]
  },
  {
   "cell_type": "code",
   "execution_count": 204,
   "metadata": {
    "ExecuteTime": {
     "end_time": "2023-04-03T02:17:05.031148Z",
     "start_time": "2023-04-03T02:17:05.020590Z"
    }
   },
   "outputs": [],
   "source": [
    "# Subsetting latitudes of complete observations\n",
    "latitudes_complete = np.round(latitude[index_unity])\n",
    "# Subsetting elevation of complete observations\n",
    "elevation_complete = elevation[index_unity]\n",
    "\n",
    "lat_el = esa_complete.copy()\n",
    "lat_el['lat']  = latitudes_complete\n",
    "lat_el['elevation']  = elevation_complete"
   ]
  },
  {
   "cell_type": "code",
   "execution_count": 205,
   "metadata": {
    "ExecuteTime": {
     "end_time": "2023-04-03T02:17:05.379477Z",
     "start_time": "2023-04-03T02:17:05.367478Z"
    }
   },
   "outputs": [],
   "source": [
    "# A function for random downscaling of the fractions in complete observations\n",
    "def make_incomplete(random_seed, rows, vtypes):\n",
    "    # Generating random values\n",
    "    np.random.seed(random_seed)\n",
    "    incompleteness = np.random.rand(rows, vtypes)\n",
    "\n",
    "    # Making all complete observations incomplete\n",
    "    esa_incomplete = esa_complete * incompleteness\n",
    "\n",
    "    return esa_incomplete"
   ]
  },
  {
   "cell_type": "code",
   "execution_count": 206,
   "metadata": {
    "ExecuteTime": {
     "end_time": "2023-04-03T02:17:05.767411Z",
     "start_time": "2023-04-03T02:17:05.756708Z"
    }
   },
   "outputs": [],
   "source": [
    "# A function for imputing incomplete observations\n",
    "def impute_incomplete(percent):\n",
    "    percent_new = percent.copy()\n",
    "    for i in range(0,len(percent)):\n",
    "        \n",
    "        lat_obs = lat_el.iloc[i]['lat']\n",
    "        el_obs =   lat_el.iloc[i]['elevation']\n",
    "        cluster = esa_complete[np.logical_and(lat_el['lat']==lat_obs,lat_el['elevation']==el_obs)]\n",
    "        cluster_mean = cluster[np.round(cluster.sum(axis = 1),3 )== 1].mean(axis = 0)\n",
    "\n",
    "        impute = percent.iloc[i]\n",
    "\n",
    "        if round(impute.sum(axis =0), 3) != 1:\n",
    "            new = partial_imputation(impute,cluster_mean)\n",
    "            percent_new.iloc[i] = new\n",
    "    return percent_new        "
   ]
  },
  {
   "cell_type": "code",
   "execution_count": 207,
   "metadata": {
    "ExecuteTime": {
     "end_time": "2023-04-03T02:18:33.962589Z",
     "start_time": "2023-04-03T02:17:06.076228Z"
    }
   },
   "outputs": [
    {
     "data": {
      "text/plain": [
       "1.94"
      ]
     },
     "execution_count": 207,
     "metadata": {},
     "output_type": "execute_result"
    }
   ],
   "source": [
    "# Calculating MAE after making observations incomplete and the imputation\n",
    "mae_errors = []\n",
    "for i in range(1, 1001):\n",
    "    mae_errors.append(mae(esa_complete, impute_incomplete(make_incomplete(i,esa_complete.shape[0],esa_complete.shape[1] )))*100)\n",
    "round(np.array(mae_errors).mean(),2)  "
   ]
  },
  {
   "cell_type": "code",
   "execution_count": null,
   "metadata": {},
   "outputs": [],
   "source": []
  }
 ],
 "metadata": {
  "kernelspec": {
   "display_name": "Python 3",
   "language": "python",
   "name": "python3"
  },
  "language_info": {
   "codemirror_mode": {
    "name": "ipython",
    "version": 3
   },
   "file_extension": ".py",
   "mimetype": "text/x-python",
   "name": "python",
   "nbconvert_exporter": "python",
   "pygments_lexer": "ipython3",
   "version": "3.8.5"
  }
 },
 "nbformat": 4,
 "nbformat_minor": 4
}
